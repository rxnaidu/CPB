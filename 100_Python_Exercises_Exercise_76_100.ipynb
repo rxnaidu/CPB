{
 "cells": [
  {
   "cell_type": "code",
   "execution_count": null,
   "metadata": {
    "collapsed": true
   },
   "outputs": [],
   "source": [
    "Exercise 76 - Date and Time Generator"
   ]
  },
  {
   "cell_type": "code",
   "execution_count": 8,
   "metadata": {},
   "outputs": [
    {
     "ename": "TypeError",
     "evalue": "descriptor 'timestamp' of 'datetime.datetime' object needs an argument",
     "output_type": "error",
     "traceback": [
      "\u001b[1;31m---------------------------------------------------------------------------\u001b[0m",
      "\u001b[1;31mTypeError\u001b[0m                                 Traceback (most recent call last)",
      "\u001b[1;32m<ipython-input-8-01f1a483276e>\u001b[0m in \u001b[0;36m<module>\u001b[1;34m()\u001b[0m\n\u001b[0;32m      1\u001b[0m \u001b[1;32mimport\u001b[0m \u001b[0mdatetime\u001b[0m\u001b[1;33m\u001b[0m\u001b[0m\n\u001b[0;32m      2\u001b[0m \u001b[1;33m\u001b[0m\u001b[0m\n\u001b[1;32m----> 3\u001b[1;33m \u001b[0mdatetime\u001b[0m\u001b[1;33m.\u001b[0m\u001b[0mdatetime\u001b[0m\u001b[1;33m.\u001b[0m\u001b[0mtimestamp\u001b[0m\u001b[1;33m(\u001b[0m\u001b[1;33m)\u001b[0m\u001b[1;33m\u001b[0m\u001b[0m\n\u001b[0m",
      "\u001b[1;31mTypeError\u001b[0m: descriptor 'timestamp' of 'datetime.datetime' object needs an argument"
     ]
    }
   ],
   "source": [
    "import datetime\n",
    "\n",
    "datetime.datetime.timestamp()"
   ]
  },
  {
   "cell_type": "code",
   "execution_count": 10,
   "metadata": {},
   "outputs": [
    {
     "data": {
      "text/plain": [
       "'Today is Thursday, March 01, 2018'"
      ]
     },
     "execution_count": 10,
     "metadata": {},
     "output_type": "execute_result"
    }
   ],
   "source": [
    "from datetime import datetime\n",
    "\n",
    "datetime.now().strftime(\"Today is %A, %B %d, %Y\")"
   ]
  },
  {
   "cell_type": "code",
   "execution_count": null,
   "metadata": {
    "collapsed": true
   },
   "outputs": [],
   "source": [
    "http://strftime.org/"
   ]
  },
  {
   "cell_type": "code",
   "execution_count": 11,
   "metadata": {},
   "outputs": [
    {
     "data": {
      "text/plain": [
       "'Thu Mar  1 09:35:01 2018'"
      ]
     },
     "execution_count": 11,
     "metadata": {},
     "output_type": "execute_result"
    }
   ],
   "source": [
    "datetime.now().strftime(\"%c\")"
   ]
  },
  {
   "cell_type": "code",
   "execution_count": 12,
   "metadata": {},
   "outputs": [
    {
     "data": {
      "text/plain": [
       "'03/01/18'"
      ]
     },
     "execution_count": 12,
     "metadata": {},
     "output_type": "execute_result"
    }
   ],
   "source": [
    "datetime.now().strftime(\"%x\")"
   ]
  },
  {
   "cell_type": "code",
   "execution_count": 13,
   "metadata": {},
   "outputs": [
    {
     "data": {
      "text/plain": [
       "'09:35:44'"
      ]
     },
     "execution_count": 13,
     "metadata": {},
     "output_type": "execute_result"
    }
   ],
   "source": [
    "datetime.now().strftime(\"%X\")"
   ]
  },
  {
   "cell_type": "code",
   "execution_count": null,
   "metadata": {
    "collapsed": true
   },
   "outputs": [],
   "source": [
    "Exercise 77 - Year of Birth Calculator"
   ]
  },
  {
   "cell_type": "code",
   "execution_count": 18,
   "metadata": {},
   "outputs": [
    {
     "name": "stdout",
     "output_type": "stream",
     "text": [
      "Enter your age30\n",
      "We think you were born back in 1988\n"
     ]
    }
   ],
   "source": [
    "# my solution\n",
    "age = int(input(\"Enter your age\"))\n",
    "current_year = datetime.now().year\n",
    "birth_year = current_year - age\n",
    "print(\"We think you were born back in %s\" %birth_year)"
   ]
  },
  {
   "cell_type": "code",
   "execution_count": null,
   "metadata": {
    "collapsed": true
   },
   "outputs": [],
   "source": [
    "Exercise 78 - Password Generator"
   ]
  },
  {
   "cell_type": "code",
   "execution_count": 24,
   "metadata": {},
   "outputs": [
    {
     "name": "stdout",
     "output_type": "stream",
     "text": [
      "eBdqY&\n"
     ]
    }
   ],
   "source": [
    "import random\n",
    "\n",
    "characters = \"abcdefghijklmnopqrstuvwxyz0123456789ABCDEFGHIJKLMNOPQRSTUVWXYZ!@#$%^&*\"\n",
    "\n",
    "chosen = random.sample(characters, 6)\n",
    "password = \"\".join(chosen)\n",
    "print(password)"
   ]
  },
  {
   "cell_type": "code",
   "execution_count": null,
   "metadata": {
    "collapsed": true
   },
   "outputs": [],
   "source": [
    "Exercise 79 - Password Checker"
   ]
  },
  {
   "cell_type": "code",
   "execution_count": null,
   "metadata": {
    "collapsed": true
   },
   "outputs": [],
   "source": [
    "while True:\n",
    "    pwd = input(\"Enter new password\")\n",
    "    if any(i.isdigit() for i in pwd) and any(i.isupper() for i in pwd) and len(pwd) >=5:\n",
    "        print(\"password is fine\")\n",
    "        break\n",
    "    else:\n",
    "        print(\"Password is not fine\")"
   ]
  },
  {
   "cell_type": "code",
   "execution_count": null,
   "metadata": {
    "collapsed": true
   },
   "outputs": [],
   "source": []
  },
  {
   "cell_type": "code",
   "execution_count": 9,
   "metadata": {
    "collapsed": true
   },
   "outputs": [],
   "source": [
    "characters = \"abcdefghijklmnopqrstuvwxyz0123456789ABCDEFGHIJKLMNOPQRSTUVWXYZ!@#$%^&*\"\n",
    "def check_digit(characters):\n",
    "    return any(i.isdigit() for i in characters)"
   ]
  },
  {
   "cell_type": "code",
   "execution_count": 10,
   "metadata": {},
   "outputs": [
    {
     "data": {
      "text/plain": [
       "True"
      ]
     },
     "execution_count": 10,
     "metadata": {},
     "output_type": "execute_result"
    }
   ],
   "source": [
    "check_digit(characters)"
   ]
  },
  {
   "cell_type": "code",
   "execution_count": 11,
   "metadata": {
    "collapsed": true
   },
   "outputs": [],
   "source": [
    "characters = \"abcdefghijklmnopqrstuvwxyz0123456789ABCDEFGHIJKLMNOPQRSTUVWXYZ!@#$%^&*\"\n",
    "def check_lower(characters):\n",
    "    return any(i.lower() for i in characters)"
   ]
  },
  {
   "cell_type": "code",
   "execution_count": 12,
   "metadata": {},
   "outputs": [
    {
     "data": {
      "text/plain": [
       "True"
      ]
     },
     "execution_count": 12,
     "metadata": {},
     "output_type": "execute_result"
    }
   ],
   "source": [
    "check_lower(characters)"
   ]
  },
  {
   "cell_type": "code",
   "execution_count": 13,
   "metadata": {
    "collapsed": true
   },
   "outputs": [],
   "source": [
    "characters = \"abcdefghijklmnopqrstuvwxyz0123456789ABCDEFGHIJKLMNOPQRSTUVWXYZ!@#$%^&*\"\n",
    "def check_upper(characters):\n",
    "    return any(i.upper() for i in characters)"
   ]
  },
  {
   "cell_type": "code",
   "execution_count": 15,
   "metadata": {},
   "outputs": [
    {
     "data": {
      "text/plain": [
       "True"
      ]
     },
     "execution_count": 15,
     "metadata": {},
     "output_type": "execute_result"
    }
   ],
   "source": [
    "check_upper(characters)"
   ]
  },
  {
   "cell_type": "code",
   "execution_count": null,
   "metadata": {
    "collapsed": true
   },
   "outputs": [],
   "source": [
    "Exercise 80 - Advanced Password Checker"
   ]
  },
  {
   "cell_type": "code",
   "execution_count": 2,
   "metadata": {},
   "outputs": [
    {
     "name": "stdout",
     "output_type": "stream",
     "text": [
      "Enter password: 123\n",
      "Please check the following: \n",
      "You need at least one uppercase letter\n",
      "You need atleast 5 characters\n",
      "Enter password: 12345\n",
      "Please check the following: \n",
      "You need at least one uppercase letter\n",
      "Enter password: A12345\n",
      "password is fine\n"
     ]
    }
   ],
   "source": [
    "while True:\n",
    "\tnotes = []\n",
    "\tpwd = input(\"Enter password: \")\n",
    "\tif not any(i.isdigit() for i in pwd):\n",
    "\t\tnotes.append(\"you need at least one number\")\n",
    "\tif not any(i.isupper() for i in pwd):\n",
    "\t\tnotes.append(\"You need at least one uppercase letter\")\n",
    "\tif len(pwd) < 5:\n",
    "\t\tnotes.append(\"You need atleast 5 characters\")\n",
    "\tif len(notes) == 0:\n",
    "\t\tprint(\"password is fine\")\n",
    "\t\tbreak\n",
    "\telse:\n",
    "\t\tprint(\"Please check the following: \")\n",
    "\t\tfor note in notes:\n",
    "\t\t\tprint(note)"
   ]
  },
  {
   "cell_type": "code",
   "execution_count": null,
   "metadata": {
    "collapsed": true
   },
   "outputs": [],
   "source": [
    "special_characters = \")!@#$%^&*(\"\n",
    "while True:\n",
    "    \n",
    "    notes = []\n",
    "    pwd = input(\"Enter the password: \")\n",
    "    if not any(i.isupper() for i in pwd):\n",
    "        notes.append(\"You need atleast one upper case\")\n",
    "    elif not any(i.islower() for i in pwd):\n",
    "        notes.append(\"You need atleast one lower case\")\n",
    "    elif not any(i.isdigit() for i in pwd):\n",
    "        notes.append(\"You need atleast one number\")\n",
    "    elif len(pwd) < 7:\n",
    "        notes.append(\"You need atleast 7 characters\")\n",
    "    elif len(notes) == 0:\n",
    "        print(\"Password is fine\")\n",
    "        break\n",
    "    else:\n",
    "        print(\"Please check the following: \")\n",
    "        for note in notes:\n",
    "            print(note)\n",
    "        \n",
    "    "
   ]
  },
  {
   "cell_type": "code",
   "execution_count": null,
   "metadata": {
    "collapsed": true
   },
   "outputs": [],
   "source": [
    "Exercise 81 - Username and Password Checker"
   ]
  },
  {
   "cell_type": "code",
   "execution_count": 51,
   "metadata": {
    "collapsed": true
   },
   "outputs": [],
   "source": [
    "with open(\"c:/CPB3/users.txt\", 'r') as file:\n",
    "    users = file.readlines()\n",
    "    users = [i.strip(\"\\n\") for i in users]\n",
    "file.close()"
   ]
  },
  {
   "cell_type": "code",
   "execution_count": 52,
   "metadata": {},
   "outputs": [
    {
     "data": {
      "text/plain": [
       "list"
      ]
     },
     "execution_count": 52,
     "metadata": {},
     "output_type": "execute_result"
    }
   ],
   "source": [
    "type(users)"
   ]
  },
  {
   "cell_type": "code",
   "execution_count": 53,
   "metadata": {},
   "outputs": [
    {
     "name": "stdout",
     "output_type": "stream",
     "text": [
      "['Mercury', 'Venus', 'Earth', 'Mars', 'Jupiter', 'Saturn', 'Uranus', 'Neptune', 'Pluto']\n"
     ]
    }
   ],
   "source": [
    "print(users)"
   ]
  },
  {
   "cell_type": "code",
   "execution_count": 54,
   "metadata": {},
   "outputs": [
    {
     "data": {
      "text/plain": [
       "'Mercury'"
      ]
     },
     "execution_count": 54,
     "metadata": {},
     "output_type": "execute_result"
    }
   ],
   "source": [
    "users[0]"
   ]
  },
  {
   "cell_type": "code",
   "execution_count": 1,
   "metadata": {},
   "outputs": [
    {
     "name": "stdout",
     "output_type": "stream",
     "text": [
      "Enter username: Mercury\n",
      "username already exists\n",
      "Enter username: ravi\n",
      "username is fine\n",
      "Enter password: 123Adf5\n",
      "Password is fine\n"
     ]
    }
   ],
   "source": [
    "while True:\n",
    "    usr = input(\"Enter username: \")\n",
    "    with open(\"c:/CPB3/users.txt\", 'r') as file:\n",
    "        users = file.readlines()\n",
    "        users = [i.strip(\"\\n\") for i in users]\n",
    "        \n",
    "    if usr in users:\n",
    "        print(\"username already exists\")\n",
    "        continue\n",
    "    else:\n",
    "        print(\"username is fine\")\n",
    "        break\n",
    "\n",
    "while True:\n",
    "    notes = []\n",
    "    pwd = input(\"Enter password: \")\n",
    "    if not (i.isdigit() for i in pwd):\n",
    "        notes.append(\"You need atleast one number\")\n",
    "    if not (i.upper() for i in pwd):\n",
    "        notes.append(\"You need atleast one upper case letter\")\n",
    "    if len(pwd) < 5:\n",
    "        notes.append(\"You need atleast 5 characters\")\n",
    "    if len(notes) == 0:\n",
    "        print(\"Password is fine\")\n",
    "        break\n",
    "    else:\n",
    "        print(\"Please check the following: \")\n",
    "        for note in notes:\n",
    "            print(note)"
   ]
  },
  {
   "cell_type": "code",
   "execution_count": null,
   "metadata": {
    "collapsed": true
   },
   "outputs": [],
   "source": [
    "Excercise 82 - Astronomy"
   ]
  },
  {
   "cell_type": "code",
   "execution_count": 2,
   "metadata": {},
   "outputs": [
    {
     "ename": "ModuleNotFoundError",
     "evalue": "No module named 'ephem'",
     "output_type": "error",
     "traceback": [
      "\u001b[1;31m---------------------------------------------------------------------------\u001b[0m",
      "\u001b[1;31mModuleNotFoundError\u001b[0m                       Traceback (most recent call last)",
      "\u001b[1;32m<ipython-input-2-ec29536746b6>\u001b[0m in \u001b[0;36m<module>\u001b[1;34m()\u001b[0m\n\u001b[1;32m----> 1\u001b[1;33m \u001b[1;32mimport\u001b[0m \u001b[0mephem\u001b[0m\u001b[1;33m\u001b[0m\u001b[0m\n\u001b[0m",
      "\u001b[1;31mModuleNotFoundError\u001b[0m: No module named 'ephem'"
     ]
    }
   ],
   "source": [
    "import ephem"
   ]
  },
  {
   "cell_type": "code",
   "execution_count": null,
   "metadata": {
    "collapsed": true
   },
   "outputs": [],
   "source": [
    "Exercise 83 - Monitor Size Detector"
   ]
  },
  {
   "cell_type": "code",
   "execution_count": 1,
   "metadata": {},
   "outputs": [
    {
     "ename": "ModuleNotFoundError",
     "evalue": "No module named 'screeninfo'",
     "output_type": "error",
     "traceback": [
      "\u001b[1;31m---------------------------------------------------------------------------\u001b[0m",
      "\u001b[1;31mModuleNotFoundError\u001b[0m                       Traceback (most recent call last)",
      "\u001b[1;32m<ipython-input-1-ab0b06771eb2>\u001b[0m in \u001b[0;36m<module>\u001b[1;34m()\u001b[0m\n\u001b[1;32m----> 1\u001b[1;33m \u001b[1;32mimport\u001b[0m \u001b[0mscreeninfo\u001b[0m\u001b[1;33m\u001b[0m\u001b[0m\n\u001b[0m",
      "\u001b[1;31mModuleNotFoundError\u001b[0m: No module named 'screeninfo'"
     ]
    }
   ],
   "source": [
    "import screeninfo"
   ]
  },
  {
   "cell_type": "code",
   "execution_count": null,
   "metadata": {
    "collapsed": true
   },
   "outputs": [],
   "source": [
    "from screeninfo import get_monitors\n",
    "\n",
    "# get Monitor 1 screen size\n",
    "width = get_monitors()[0].width\n",
    "height = get_monitors()[0].height\n",
    "print(\"Monitor 1 - width: %s, Height: %s\" %(width, height))\n",
    "\n",
    "# get monitor 2 screen size\n",
    "width = get_monitors()[1].width\n",
    "height = get_monitors()[1].height\n",
    "print(\"Monitor 2 - width: %s, Height: %s\" %(width, height))\n",
    "\n",
    "# get monitor 3 screen size\n",
    "width = get_monitors()[2].width\n",
    "height = get_monitors()[2].height\n",
    "print(\"Monitor 3 - width: %s, Height: %s\" %(width, height))"
   ]
  },
  {
   "cell_type": "code",
   "execution_count": null,
   "metadata": {
    "collapsed": true
   },
   "outputs": [],
   "source": [
    "Exercise 83 - pyglet"
   ]
  },
  {
   "cell_type": "code",
   "execution_count": 2,
   "metadata": {},
   "outputs": [
    {
     "ename": "ModuleNotFoundError",
     "evalue": "No module named 'pyglet'",
     "output_type": "error",
     "traceback": [
      "\u001b[1;31m---------------------------------------------------------------------------\u001b[0m",
      "\u001b[1;31mModuleNotFoundError\u001b[0m                       Traceback (most recent call last)",
      "\u001b[1;32m<ipython-input-2-0aad3a6f3687>\u001b[0m in \u001b[0;36m<module>\u001b[1;34m()\u001b[0m\n\u001b[1;32m----> 1\u001b[1;33m \u001b[1;32mimport\u001b[0m \u001b[0mpyglet\u001b[0m\u001b[1;33m\u001b[0m\u001b[0m\n\u001b[0m",
      "\u001b[1;31mModuleNotFoundError\u001b[0m: No module named 'pyglet'"
     ]
    }
   ],
   "source": [
    "import pyglet"
   ]
  },
  {
   "cell_type": "code",
   "execution_count": null,
   "metadata": {
    "collapsed": true
   },
   "outputs": [],
   "source": [
    "import pyglet\n",
    "\n",
    "window = pyglet.window.Window()\n",
    "\n",
    "label = pyglet.text.Label(\"Hello, World\", font_name='calibri', font_size=36, x= window.width//2, y=window.height//2, anchor_x='center', anchor_y='center')\n",
    "\n",
    "\n",
    "@window.event\n",
    "def on_draw():\n",
    "    window.clear()\n",
    "    label.draw()\n",
    "\n",
    "\n",
    "pyglet.app.run()\n",
    "\n"
   ]
  },
  {
   "cell_type": "code",
   "execution_count": null,
   "metadata": {
    "collapsed": true
   },
   "outputs": [],
   "source": [
    "Excercise 85 - Data Cleaner"
   ]
  },
  {
   "cell_type": "code",
   "execution_count": 3,
   "metadata": {},
   "outputs": [
    {
     "data": {
      "text/plain": [
       "'C:\\\\CPB'"
      ]
     },
     "execution_count": 3,
     "metadata": {},
     "output_type": "execute_result"
    }
   ],
   "source": [
    "pwd"
   ]
  },
  {
   "cell_type": "code",
   "execution_count": 43,
   "metadata": {},
   "outputs": [],
   "source": [
    "# My solution\n",
    "new_country = []\n",
    "with open(\"c:/CPB/countries-raw.txt\", 'r') as file:\n",
    "    countries = file.readlines()\n",
    "    countries = [i.strip('\\n') for i in countries]\n",
    "    for i in countries:\n",
    "        if not len(i) < 2:\n",
    "            new_country.append(i)\n",
    "    new_country.pop()\n",
    "file.close()\n",
    "\n",
    "# Solution 1\n",
    "with open(\"c:/CPB/countries1.txt\", 'w') as file:\n",
    "    file.writelines([\"%s\\n\" %item for item in new_country])\n",
    "file.close()"
   ]
  },
  {
   "cell_type": "code",
   "execution_count": 39,
   "metadata": {},
   "outputs": [],
   "source": [
    "# My solution for writing into new file\n",
    "# Solution 1\n",
    "with open(\"c:/CPB/countries1.txt\", 'w') as file:\n",
    "    file.writelines([\"%s\\n\" %item for item in new_country])\n",
    "file.close()"
   ]
  },
  {
   "cell_type": "code",
   "execution_count": 40,
   "metadata": {},
   "outputs": [],
   "source": [
    "# My solution for writing into new file\n",
    "# Solution 2\n",
    "with open(\"c:/CPB/countries2.txt\", 'w') as file:\n",
    "    file.write(\"\\n\".join(new_country))\n",
    "file.close()"
   ]
  },
  {
   "cell_type": "code",
   "execution_count": 64,
   "metadata": {},
   "outputs": [],
   "source": [
    "# Ardit Solution\n",
    "with open(\"c:/CPB/countries-raw.txt\", 'r') as file:\n",
    "    content = file.readlines()\n",
    "\n",
    "# Clean up the '\\n' characters\n",
    "content = [i.strip('\\n') for i in content if \"\\n\" in i]\n",
    "# Clean up \"\" empty characters\n",
    "content = [i for i in content if i != \"\"]\n",
    "# clean up single characters\n",
    "content = [i for i in content if len(i) != 1]\n",
    "# clean up \"Top of Page\" from list\n",
    "content = [i for i in content if i != \"Top of Page\"]\n",
    "\n",
    "file.close()\n",
    "\n",
    "with open(\"c:/CPB/countries_ardit.txt\", 'w') as file:\n",
    "          for i in content:\n",
    "              file.write(i+'\\n')\n",
    "\n",
    "\n",
    "                \n",
    "file.close()\n",
    "          \n"
   ]
  },
  {
   "cell_type": "code",
   "execution_count": null,
   "metadata": {},
   "outputs": [],
   "source": [
    "Excercise 86 - Data Checker"
   ]
  },
  {
   "cell_type": "code",
   "execution_count": 70,
   "metadata": {
    "collapsed": true
   },
   "outputs": [],
   "source": [
    "# My Solution\n",
    "\n",
    "checklist = [\"Portugal\", \"Germany\", \"Munster\", \"Spain\"]\n",
    "\n",
    "with open(\"c:/CPB/countries-clean.txt\", 'r') as file:\n",
    "    content = file.readlines()\n",
    "\n",
    "content = [i.strip('\\n') for i in content if '\\n' in i]\n",
    "file.close()\n",
    "# strip the countries not listed in countries-clean.txt\n",
    "checklist = [i for i in content if i in checklist]\n"
   ]
  },
  {
   "cell_type": "code",
   "execution_count": 71,
   "metadata": {},
   "outputs": [
    {
     "data": {
      "text/plain": [
       "['Germany', 'Portugal', 'Spain']"
      ]
     },
     "execution_count": 71,
     "metadata": {},
     "output_type": "execute_result"
    }
   ],
   "source": [
    "checklist "
   ]
  },
  {
   "cell_type": "code",
   "execution_count": null,
   "metadata": {
    "collapsed": true
   },
   "outputs": [],
   "source": [
    "Excercise 87 - Add missing Data"
   ]
  },
  {
   "cell_type": "code",
   "execution_count": null,
   "metadata": {},
   "outputs": [],
   "source": [
    "# My solution\n",
    "checklist = [\"Portugal\", \"Germany\", \"Spain\"]\n",
    "\n",
    "with open(\"c:/CPB/countries-missing.txt\", 'r') as file:\n",
    "    content = file.readlines()\n",
    "\n",
    "content = [i.strip(\"\\n\") for i in content if '\\n' in i]\n",
    "file.close()\n",
    "\n",
    "for i in content:\n",
    "    if i not in checklist:\n",
    "        content.append(checklist)\n"
   ]
  },
  {
   "cell_type": "code",
   "execution_count": null,
   "metadata": {},
   "outputs": [],
   "source": [
    "new_list"
   ]
  },
  {
   "cell_type": "markdown",
   "metadata": {},
   "source": [
    "### comparision between list comprehension and for loop solution"
   ]
  },
  {
   "cell_type": "code",
   "execution_count": null,
   "metadata": {
    "collapsed": true
   },
   "outputs": [],
   "source": [
    "#list comprehension solution\n",
    "with open(\"c:/CPB/countries-missing.txt\", 'r') as file:\n",
    "    content = file.readlines()\n",
    "\n",
    "content = [i.strip(\"\\n\") for i in content if '\\n' in i]\n",
    "file.close()"
   ]
  },
  {
   "cell_type": "code",
   "execution_count": 83,
   "metadata": {},
   "outputs": [],
   "source": [
    "#for loop solution\n",
    "\n",
    "with open(\"c:/CPB/countries-missing.txt\", 'r') as file:\n",
    "    content = file.readlines()\n",
    "\n",
    "# NEED TO COMPLETE THIS"
   ]
  },
  {
   "cell_type": "code",
   "execution_count": 3,
   "metadata": {},
   "outputs": [],
   "source": [
    "# Ardit Solution\n",
    "checklist = [\"Portugal\", \"Germany\", \"Spain\"]\n",
    "# need to add \\n so it get added to new line\n",
    "checklist = [i + '\\n' for i in checklist]\n",
    "\n",
    "with open(\"c:/CPB/countries-missing.txt\", 'r') as file:\n",
    "    content = file.readlines()\n",
    "    \n",
    "updated_list = sorted(checklist + content)\n",
    "\n",
    "with open(\"countries_missing_fixed.txt\", 'w') as file:\n",
    "    for i in updated_list:\n",
    "        file.write(i)\n",
    "    "
   ]
  },
  {
   "cell_type": "code",
   "execution_count": 2,
   "metadata": {},
   "outputs": [
    {
     "data": {
      "text/plain": [
       "['Portugal\\n', 'Germany\\n', 'Spain\\n']"
      ]
     },
     "execution_count": 2,
     "metadata": {},
     "output_type": "execute_result"
    }
   ],
   "source": [
    "checklist"
   ]
  },
  {
   "cell_type": "code",
   "execution_count": null,
   "metadata": {
    "collapsed": true
   },
   "outputs": [],
   "source": [
    "Excercise 88 - Data Filter"
   ]
  },
  {
   "cell_type": "code",
   "execution_count": 33,
   "metadata": {},
   "outputs": [],
   "source": [
    "# my solution\n",
    "import pandas as p\n",
    "import numpy as np\n",
    "\n",
    "data = pandas.read_csv('countries-by-area.txt')"
   ]
  },
  {
   "cell_type": "code",
   "execution_count": 28,
   "metadata": {},
   "outputs": [
    {
     "data": {
      "text/plain": [
       "Index(['rank', 'country', 'area_sqkm', 'population_2013'], dtype='object')"
      ]
     },
     "execution_count": 28,
     "metadata": {},
     "output_type": "execute_result"
    }
   ],
   "source": [
    "data.columns"
   ]
  },
  {
   "cell_type": "code",
   "execution_count": 34,
   "metadata": {
    "collapsed": true
   },
   "outputs": [],
   "source": [
    "slength = len(data['rank'])"
   ]
  },
  {
   "cell_type": "code",
   "execution_count": 35,
   "metadata": {},
   "outputs": [],
   "source": [
    "data['new_column'] = p.Series(np.random.randn(slength), index = data.index)"
   ]
  },
  {
   "cell_type": "code",
   "execution_count": 37,
   "metadata": {},
   "outputs": [],
   "source": [
    "data['new_column'] = data['population_2013'] / data['area_sqkm']"
   ]
  },
  {
   "cell_type": "code",
   "execution_count": 47,
   "metadata": {},
   "outputs": [],
   "source": [
    "sorted_countries = data.sort_values('new_column', ascending=False)"
   ]
  },
  {
   "cell_type": "code",
   "execution_count": null,
   "metadata": {},
   "outputs": [],
   "source": []
  },
  {
   "cell_type": "code",
   "execution_count": 54,
   "metadata": {},
   "outputs": [],
   "source": [
    "# my solution\n",
    "import pandas as p\n",
    "import numpy as np\n",
    "\n",
    "data = pandas.read_csv('countries-by-area.txt')\n",
    "slength = len(data['rank'])\n",
    "data['new_column'] = p.Series(np.random.randn(slength), index = data.index)\n",
    "data['new_column'] = data['population_2013'] / data['area_sqkm']\n",
    "sorted_countries = data.sort_values('new_column', ascending=False)"
   ]
  },
  {
   "cell_type": "code",
   "execution_count": 57,
   "metadata": {},
   "outputs": [],
   "source": [
    "sorted_countries = sorted_countries.rank"
   ]
  },
  {
   "cell_type": "code",
   "execution_count": 60,
   "metadata": {},
   "outputs": [
    {
     "ename": "TypeError",
     "evalue": "'method' object is not subscriptable",
     "output_type": "error",
     "traceback": [
      "\u001b[1;31m---------------------------------------------------------------------------\u001b[0m",
      "\u001b[1;31mTypeError\u001b[0m                                 Traceback (most recent call last)",
      "\u001b[1;32m<ipython-input-60-af7f89f6f50d>\u001b[0m in \u001b[0;36m<module>\u001b[1;34m()\u001b[0m\n\u001b[1;32m----> 1\u001b[1;33m \u001b[0msorted_countries\u001b[0m\u001b[1;33m[\u001b[0m\u001b[1;34m'country'\u001b[0m\u001b[1;33m]\u001b[0m\u001b[1;33m\u001b[0m\u001b[0m\n\u001b[0m",
      "\u001b[1;31mTypeError\u001b[0m: 'method' object is not subscriptable"
     ]
    }
   ],
   "source": [
    "sorted_countries['country']"
   ]
  },
  {
   "cell_type": "code",
   "execution_count": 63,
   "metadata": {},
   "outputs": [
    {
     "name": "stdout",
     "output_type": "stream",
     "text": [
      "India\n",
      "Pakistan\n",
      "Nigeria\n",
      "China\n",
      "Indonesia\n"
     ]
    }
   ],
   "source": [
    "# Ardit Solution\n",
    "import pandas\n",
    "\n",
    "# Read the txt file\n",
    "data = pandas.read_csv('countries-by-area.txt')\n",
    "# create new column -density- by dividing population_13 column by area_sqkm column\n",
    "data['density'] = data['population_2013'] / data['area_sqkm']\n",
    "# sort values in -density- column by setting ascending to False\n",
    "data = data.sort_values(by=\"density\", ascending=False)\n",
    "\n",
    "# from the first five rows -data[:5]- extract row values on country\n",
    "for index, row in data[:5].iterrows():\n",
    "    print(row[\"country\"])"
   ]
  },
  {
   "cell_type": "code",
   "execution_count": null,
   "metadata": {},
   "outputs": [],
   "source": [
    "Excercise 89 - Database Filter"
   ]
  },
  {
   "cell_type": "code",
   "execution_count": 104,
   "metadata": {},
   "outputs": [
    {
     "name": "stdout",
     "output_type": "stream",
     "text": [
      "Russia\n",
      "Canada\n",
      "United States of America\n",
      "China\n",
      "Brazil\n",
      "Australia\n",
      "India\n",
      "Argentina\n",
      "Kazakhstan\n",
      "Algeria\n",
      "Congo Dem Rep of the\n",
      "Greenland\n",
      "Saudi Arabia\n"
     ]
    }
   ],
   "source": [
    "import sqlite3\n",
    "\n",
    "conn = sqlite3.connect('database.db')\n",
    "cur = conn.cursor()\n",
    "\n",
    "cur.execute(\"SELECT country FROM countries WHERE area > 2000000\")\n",
    "rows = cur.fetchall()\n",
    "\n",
    "conn.close()\n",
    "for i in rows:\n",
    "    print(i[0])\n"
   ]
  },
  {
   "cell_type": "code",
   "execution_count": null,
   "metadata": {},
   "outputs": [],
   "source": [
    "Excercise 90 - Database to CSV converter"
   ]
  },
  {
   "cell_type": "code",
   "execution_count": null,
   "metadata": {},
   "outputs": [],
   "source": []
  },
  {
   "cell_type": "code",
   "execution_count": null,
   "metadata": {
    "collapsed": true
   },
   "outputs": [],
   "source": []
  }
 ],
 "metadata": {
  "kernelspec": {
   "display_name": "Python 3",
   "language": "python",
   "name": "python3"
  },
  "language_info": {
   "codemirror_mode": {
    "name": "ipython",
    "version": 3
   },
   "file_extension": ".py",
   "mimetype": "text/x-python",
   "name": "python",
   "nbconvert_exporter": "python",
   "pygments_lexer": "ipython3",
   "version": "3.6.3"
  }
 },
 "nbformat": 4,
 "nbformat_minor": 2
}
